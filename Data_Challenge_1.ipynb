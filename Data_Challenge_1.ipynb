{
  "nbformat": 4,
  "nbformat_minor": 0,
  "metadata": {
    "colab": {
      "provenance": [],
      "authorship_tag": "ABX9TyNE03bzHl8yFP4tz5DJ3Fzy",
      "include_colab_link": true
    },
    "kernelspec": {
      "name": "python3",
      "display_name": "Python 3"
    },
    "language_info": {
      "name": "python"
    }
  },
  "cells": [
    {
      "cell_type": "markdown",
      "metadata": {
        "id": "view-in-github",
        "colab_type": "text"
      },
      "source": [
        "<a href=\"https://colab.research.google.com/github/norrismeg/gw-intro/blob/main/Data_Challenge_1.ipynb\" target=\"_parent\"><img src=\"https://colab.research.google.com/assets/colab-badge.svg\" alt=\"Open In Colab\"/></a>"
      ]
    },
    {
      "cell_type": "markdown",
      "source": [
        "**Challenge 1 (1 point) -- Novice**\n",
        "\n",
        "Identify a loud binary black hole signal in white, Gaussian noise.\n",
        "\n",
        "Use the data file challenge1.gwf. The channel name is H1:CHALLENGE1.\n",
        "The data are white, Gaussian noise containing a simulated BBH signal.\n",
        "Load the data into memory. What are the sampling rate and duration of the data?\n",
        "Plot the data in the time-domain.\n",
        "Plot a spectrogram (or q-transform) of the data, and try to identify the signal.\n",
        "What is the time of the merger?"
      ],
      "metadata": {
        "id": "zb0HFkgW6eHL"
      }
    },
    {
      "cell_type": "code",
      "source": [
        "! pip install -q lalsuite\n",
        "! pip install -q gwpy\n",
        "! pip install -q pycbc\n",
        "# -- Click \"restart runtime\" in the runtime menu"
      ],
      "metadata": {
        "id": "kgN-PX3i6tYn"
      },
      "execution_count": 1,
      "outputs": []
    },
    {
      "cell_type": "code",
      "source": [
        "# -- download data\n",
        "! wget https://dcc.ligo.org/public/0187/G2300818/001/challenge1.gwf\n",
        "\n",
        "# -- for gwpy\n",
        "from gwpy.timeseries import TimeSeries\n",
        "gwpy_strain = TimeSeries.read('challenge1.gwf', channel=\"H1:CHALLENGE1\")\n",
        "\n",
        "# -- for pycbc\n",
        "from pycbc import frame\n",
        "pycbc_strain = frame.read_frame('challenge1.gwf', 'H1:CHALLENGE1')"
      ],
      "metadata": {
        "colab": {
          "base_uri": "https://localhost:8080/"
        },
        "id": "LRD2s1hW65ch",
        "outputId": "7e5d0a3a-bbca-4f8e-cf9f-9bdeded6391d"
      },
      "execution_count": 2,
      "outputs": [
        {
          "output_type": "stream",
          "name": "stdout",
          "text": [
            "--2025-05-28 23:36:02--  https://dcc.ligo.org/public/0187/G2300818/001/challenge1.gwf\n",
            "Resolving dcc.ligo.org (dcc.ligo.org)... 131.215.125.133\n",
            "Connecting to dcc.ligo.org (dcc.ligo.org)|131.215.125.133|:443... connected.\n",
            "HTTP request sent, awaiting response... 200 OK\n",
            "Length: 4025680 (3.8M)\n",
            "Saving to: ‘challenge1.gwf.1’\n",
            "\n",
            "challenge1.gwf.1    100%[===================>]   3.84M  2.85MB/s    in 1.3s    \n",
            "\n",
            "2025-05-28 23:36:04 (2.85 MB/s) - ‘challenge1.gwf.1’ saved [4025680/4025680]\n",
            "\n"
          ]
        },
        {
          "output_type": "stream",
          "name": "stderr",
          "text": [
            "/usr/local/lib/python3.11/dist-packages/gwpy/time/__init__.py:36: UserWarning: Wswiglal-redir-stdio:\n",
            "\n",
            "SWIGLAL standard output/error redirection is enabled in IPython.\n",
            "This may lead to performance penalties. To disable locally, use:\n",
            "\n",
            "with lal.no_swig_redirect_standard_output_error():\n",
            "    ...\n",
            "\n",
            "To disable globally, use:\n",
            "\n",
            "lal.swig_redirect_standard_output_error(False)\n",
            "\n",
            "Note however that this will likely lead to error messages from\n",
            "LAL functions being either misdirected or lost when called from\n",
            "Jupyter notebooks.\n",
            "\n",
            "To suppress this warning, use:\n",
            "\n",
            "import warnings\n",
            "warnings.filterwarnings(\"ignore\", \"Wswiglal-redir-stdio\")\n",
            "import lal\n",
            "\n",
            "  from lal import LIGOTimeGPS\n"
          ]
        }
      ]
    },
    {
      "cell_type": "code",
      "source": [
        "import numpy\n",
        "\n",
        "import matplotlib.pyplot as plt"
      ],
      "metadata": {
        "id": "xCA5UkdiP7l-"
      },
      "execution_count": 3,
      "outputs": []
    },
    {
      "cell_type": "markdown",
      "source": [
        "Sampling Rate and Duration of the Data:"
      ],
      "metadata": {
        "id": "q4XZi_tN9m1J"
      }
    },
    {
      "cell_type": "code",
      "source": [
        "pycbc_strain.plot()\n",
        "\n",
        "len(pycbc_strain)"
      ],
      "metadata": {
        "colab": {
          "base_uri": "https://localhost:8080/",
          "height": 472
        },
        "id": "hqHLXNis66Jm",
        "outputId": "05a9d93a-44c6-4161-a570-7f6577896374"
      },
      "execution_count": 8,
      "outputs": [
        {
          "output_type": "execute_result",
          "data": {
            "text/plain": [
              "524288"
            ]
          },
          "metadata": {},
          "execution_count": 8
        },
        {
          "output_type": "display_data",
          "data": {
            "text/plain": [
              "<Figure size 640x480 with 1 Axes>"
            ],
            "image/png": "[encoded data removed]"
          },
          "metadata": {}
        }
      ]
    },
    {
      "cell_type": "code",
      "source": [
        "print(pycbc_strain)"
      ],
      "metadata": {
        "colab": {
          "base_uri": "https://localhost:8080/"
        },
        "id": "V0Qd7D9hBmz8",
        "outputId": "3b453f9b-3bfd-4a15-8f12-5030ec6fb611"
      },
      "execution_count": 12,
      "outputs": [
        {
          "output_type": "stream",
          "name": "stdout",
          "text": [
            "[ 1.09389188e-21  1.21228706e-22  1.64565889e-24 ...\n",
            " -4.43135131e-23 -2.34576855e-22  4.51019899e-22]\n"
          ]
        }
      ]
    },
    {
      "cell_type": "code",
      "source": [],
      "metadata": {
        "id": "nA4n_izhK2zD"
      },
      "execution_count": null,
      "outputs": []
    }
  ]
}